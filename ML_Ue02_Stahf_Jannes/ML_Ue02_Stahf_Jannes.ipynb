{
 "cells": [
  {
   "cell_type": "code",
   "execution_count": 83,
   "id": "6ed2eb11",
   "metadata": {},
   "outputs": [
    {
     "name": "stdout",
     "output_type": "stream",
     "text": [
      "122.73427393998062\n"
     ]
    },
    {
     "ename": "ValueError",
     "evalue": "operands could not be broadcast together with shapes (3,) (163,) ",
     "output_type": "error",
     "traceback": [
      "\u001b[1;31m---------------------------------------------------------------------------\u001b[0m",
      "\u001b[1;31mValueError\u001b[0m                                Traceback (most recent call last)",
      "Input \u001b[1;32mIn [83]\u001b[0m, in \u001b[0;36m<cell line: 45>\u001b[1;34m()\u001b[0m\n\u001b[0;32m     45\u001b[0m \u001b[38;5;28;01mfor\u001b[39;00m i \u001b[38;5;129;01min\u001b[39;00m \u001b[38;5;28mrange\u001b[39m(\u001b[38;5;241m10000\u001b[39m):\n\u001b[0;32m     46\u001b[0m     k \u001b[38;5;241m=\u001b[39m rndApprox()\n\u001b[1;32m---> 47\u001b[0m     \u001b[38;5;28;01mif\u001b[39;00m getRMSE(nations[:,\u001b[38;5;241m4\u001b[39m], k) \u001b[38;5;241m<\u001b[39m  \u001b[43mgetRMSE\u001b[49m\u001b[43m(\u001b[49m\u001b[43mnations\u001b[49m\u001b[43m[\u001b[49m\u001b[43m:\u001b[49m\u001b[43m,\u001b[49m\u001b[38;5;241;43m4\u001b[39;49m\u001b[43m]\u001b[49m\u001b[43m,\u001b[49m\u001b[43m \u001b[49m\u001b[43mbestResult\u001b[49m\u001b[43m)\u001b[49m:\n\u001b[0;32m     48\u001b[0m         bestResult \u001b[38;5;241m=\u001b[39m k\n\u001b[0;32m     51\u001b[0m plt\u001b[38;5;241m.\u001b[39mplot(x,y\u001b[38;5;241m.\u001b[39mtranspose(), \u001b[38;5;124m\"\u001b[39m\u001b[38;5;124mor\u001b[39m\u001b[38;5;124m\"\u001b[39m)\n",
      "Input \u001b[1;32mIn [83]\u001b[0m, in \u001b[0;36mgetRMSE\u001b[1;34m(y, y1)\u001b[0m\n\u001b[0;32m     34\u001b[0m \u001b[38;5;28msum\u001b[39m \u001b[38;5;241m=\u001b[39m \u001b[38;5;241m0\u001b[39m\n\u001b[0;32m     35\u001b[0m \u001b[38;5;66;03m#y = nations[:,4] # renamed lifespan array\u001b[39;00m\n\u001b[0;32m     36\u001b[0m \u001b[38;5;66;03m#for x in range(len(perCapita)): # for every data point\u001b[39;00m\n\u001b[0;32m     37\u001b[0m     \u001b[38;5;66;03m#sum += (calcLifeSpan(perCapita[x])-spans[x])**2 # sum up squares of difference between\u001b[39;00m\n\u001b[1;32m---> 38\u001b[0m rmse \u001b[38;5;241m=\u001b[39m math\u001b[38;5;241m.\u001b[39msqrt(np\u001b[38;5;241m.\u001b[39msum((\u001b[43mnp\u001b[49m\u001b[38;5;241;43m.\u001b[39;49m\u001b[43msubtract\u001b[49m\u001b[43m(\u001b[49m\u001b[43my1\u001b[49m\u001b[43m,\u001b[49m\u001b[43m \u001b[49m\u001b[43my\u001b[49m\u001b[43m)\u001b[49m\u001b[38;5;241m*\u001b[39m\u001b[38;5;241m*\u001b[39m\u001b[38;5;241m2\u001b[39m))\u001b[38;5;241m/\u001b[39m\u001b[38;5;28mlen\u001b[39m(perCapita)) \u001b[38;5;66;03m# root the sum divided by amount of sum-ups\u001b[39;00m\n\u001b[0;32m     39\u001b[0m \u001b[38;5;28mprint\u001b[39m(rmse)\n\u001b[0;32m     40\u001b[0m \u001b[38;5;28;01mreturn\u001b[39;00m rmse\n",
      "\u001b[1;31mValueError\u001b[0m: operands could not be broadcast together with shapes (3,) (163,) "
     ]
    },
    {
     "data": {
      "image/png": "[encoded data removed]",
      "text/plain": [
       "<Figure size 432x288 with 1 Axes>"
      ]
     },
     "metadata": {
      "needs_background": "light"
     },
     "output_type": "display_data"
    }
   ],
   "source": [
    "import numpy as np\n",
    "import matplotlib.pyplot as plt\n",
    "import math\n",
    "import random as rnd\n",
    "\n",
    "plt.title(\"GDP x Lifespan correlation\")\n",
    "plt.ylabel(\"average lifespan (years)\") \n",
    "plt.xlabel(\"GDP per capita $\")\n",
    "\n",
    "nations = np.genfromtxt(\"nations.csv\", delimiter=\",\", skip_header=True)\n",
    "perCapita = nations[:,3]/nations[:,6]*1000000\n",
    "\n",
    "plt.plot(perCapita, nations[:,4], \"og\")\n",
    "\n",
    "\n",
    "\n",
    "def rndApprox():\n",
    "\n",
    "    x = np.sort(perCapita)\n",
    "\n",
    "    x = np.expand_dims(perCapita, axis = 0)\n",
    "    p = np.expand_dims(np.arange(0,3), axis = 1)\n",
    "    x2 = np.power(x, p)\n",
    "\n",
    "    coeffs = np.array([rnd.uniform(0,100),rnd.uniform(-0.00001,0.00001),rnd.uniform(-0.00000001,0.00000001)])\n",
    "    coeffs = np.expand_dims(coeffs, axis = 1)\n",
    "\n",
    "    y = np.matmul(x2.transpose(), coeffs)\n",
    "    #y = y.transpose() <-- somehow this is nessecary \n",
    "    \n",
    "    return coeffs\n",
    "\n",
    "def getRMSE(y, y1):\n",
    "    sum = 0\n",
    "    #y = nations[:,4] # renamed lifespan array\n",
    "    #for x in range(len(perCapita)): # for every data point\n",
    "        #sum += (calcLifeSpan(perCapita[x])-spans[x])**2 # sum up squares of difference between\n",
    "    rmse = math.sqrt(np.sum((np.subtract(y1, y)**2))/len(perCapita)) # root the sum divided by amount of sum-ups\n",
    "    print(rmse)\n",
    "    return rmse\n",
    "\n",
    "\n",
    "bestResult = [1,1,1]\n",
    "\n",
    "for i in range(10000):\n",
    "    k = rndApprox()\n",
    "    if getRMSE(nations[:,4], k) <  getRMSE(nations[:,4], bestResult):\n",
    "        bestResult = k\n",
    "\n",
    "\n",
    "plt.plot(x,y.transpose(), \"or\")\n",
    "\n",
    "plt.show()\n",
    "\n",
    "\n",
    "# RMSE \n",
    "\n",
    "# print(\"RMSE: \", rmse) # result \"\"\"\n"
   ]
  },
  {
   "cell_type": "code",
   "execution_count": null,
   "id": "b14ca507",
   "metadata": {},
   "outputs": [],
   "source": []
  },
  {
   "cell_type": "code",
   "execution_count": null,
   "id": "adfa87e2",
   "metadata": {},
   "outputs": [],
   "source": []
  },
  {
   "cell_type": "code",
   "execution_count": null,
   "id": "4588e3ff",
   "metadata": {},
   "outputs": [],
   "source": []
  },
  {
   "cell_type": "code",
   "execution_count": null,
   "id": "9f28d7c3",
   "metadata": {},
   "outputs": [],
   "source": []
  }
 ],
 "metadata": {
  "kernelspec": {
   "display_name": "Python 3 (ipykernel)",
   "language": "python",
   "name": "python3"
  },
  "language_info": {
   "codemirror_mode": {
    "name": "ipython",
    "version": 3
   },
   "file_extension": ".py",
   "mimetype": "text/x-python",
   "name": "python",
   "nbconvert_exporter": "python",
   "pygments_lexer": "ipython3",
   "version": "3.9.12"
  }
 },
 "nbformat": 4,
 "nbformat_minor": 5
}
