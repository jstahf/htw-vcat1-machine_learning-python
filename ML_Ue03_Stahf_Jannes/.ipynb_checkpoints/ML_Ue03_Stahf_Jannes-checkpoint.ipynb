{
 "cells": [
  {
   "cell_type": "code",
   "execution_count": 3,
   "id": "6ed2eb11",
   "metadata": {},
   "outputs": [
    {
     "data": {
      "image/png": "[encoded data removed]",
      "text/plain": [
       "<Figure size 432x288 with 1 Axes>"
      ]
     },
     "metadata": {
      "needs_background": "light"
     },
     "output_type": "display_data"
    },
    {
     "name": "stdout",
     "output_type": "stream",
     "text": [
      "RMSE:  8.42959437494364 \n",
      "\n",
      "k1:  [70.82046779] \n",
      "k2:  [7.62404886e-06] \n",
      "k3:  [1.19186223e-09]\n"
     ]
    }
   ],
   "source": [
    "import numpy as np\n",
    "import matplotlib.pyplot as plt\n",
    "import random as rnd\n",
    "\n",
    "# ---- Essentials ----\n",
    "\n",
    "plt.title(\"GDP x Lifespan correlation\")\n",
    "plt.ylabel(\"average lifespan (years)\") \n",
    "plt.xlabel(\"GDP per capita in $\")\n",
    "\n",
    "nations = np.genfromtxt(\"nations.csv\", delimiter=\",\", skip_header=True)\n",
    "perCapita = nations[:,3]/nations[:,6]*1000000\n",
    "\n",
    "plt.plot(perCapita, nations[:,4], \"og\")\n",
    "\n",
    "\n",
    "# ---- Approximation function ----\n",
    "\n",
    "def rndApprox():\n",
    "\n",
    "    x = np.sort(perCapita)\n",
    "\n",
    "    x = np.expand_dims(perCapita, axis = 0)\n",
    "    p = np.expand_dims(np.arange(0,3), axis = 1)\n",
    "    x2 = np.power(x, p)\n",
    "\n",
    "    coeffs = np.array([rnd.uniform(0,100),rnd.uniform(-0.00001,0.00001),rnd.uniform(-0.00000001,0.00000001)])\n",
    "    coeffs = np.expand_dims(coeffs, axis = 1)\n",
    "\n",
    "    y = np.matmul(x2.transpose(), coeffs) \n",
    "    \n",
    "    return coeffs, y\n",
    "\n",
    "\n",
    "# ---- RMSE calculation function ----\n",
    "\n",
    "def getRMSE(y, y1):\n",
    "    y1 = y1.transpose() # <-- somehow this seems to be nessecary... :/\n",
    "   \n",
    "    rmse = np.sqrt(np.mean((y1-y)**2))\n",
    "    \n",
    "    return rmse\n",
    "\n",
    "\n",
    "\n",
    "\n",
    "# ---- MAIN ----\n",
    "\n",
    "bestResult = rndApprox()\n",
    "\n",
    "#print(bestResult[1].shape) <-- (163, 1) \n",
    "#print(nations[:,4].shape) <-- (163,) vector vs 2D array, but seems to be fine \n",
    "\n",
    "for i in range(10000):\n",
    "    result = rndApprox()\n",
    "    if getRMSE(nations[:,4], result[1]) <  getRMSE(nations[:,4], bestResult[1]):\n",
    "        bestResult = result\n",
    "     \n",
    "x, y = perCapita, bestResult[1]\n",
    "    \n",
    "x, y = zip(*sorted(zip(perCapita, bestResult[1]))) # <-- little trick to sort x-values \n",
    "                         # Source: https://stackoverflow.com/questions/37414916/pythons-matplotlib-plotting-in-wrong-order\n",
    "        \n",
    "plt.plot(x, y, \"r\")\n",
    "plt.show()\n",
    "\n",
    "print(\"RMSE: \" , getRMSE(nations[:,4], bestResult[1]), \"\\n\\nk1: \", bestResult[0][0], \"\\nk2: \", bestResult[0][1], \"\\nk3: \", bestResult[0][2])"
   ]
  },
  {
   "cell_type": "code",
   "execution_count": null,
   "id": "57e6dc84",
   "metadata": {},
   "outputs": [],
   "source": []
  },
  {
   "cell_type": "code",
   "execution_count": null,
   "id": "51b37f2b",
   "metadata": {},
   "outputs": [],
   "source": []
  }
 ],
 "metadata": {
  "kernelspec": {
   "display_name": "Python 3 (ipykernel)",
   "language": "python",
   "name": "python3"
  },
  "language_info": {
   "codemirror_mode": {
    "name": "ipython",
    "version": 3
   },
   "file_extension": ".py",
   "mimetype": "text/x-python",
   "name": "python",
   "nbconvert_exporter": "python",
   "pygments_lexer": "ipython3",
   "version": "3.9.12"
  }
 },
 "nbformat": 4,
 "nbformat_minor": 5
}
