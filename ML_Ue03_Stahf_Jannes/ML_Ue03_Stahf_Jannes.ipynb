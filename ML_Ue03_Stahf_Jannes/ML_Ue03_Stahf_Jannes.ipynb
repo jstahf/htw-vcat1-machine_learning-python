{
 "cells": [
  {
   "cell_type": "code",
   "execution_count": 5,
   "id": "6ed2eb11",
   "metadata": {},
   "outputs": [
    {
     "data": {
      "image/png": "[encoded data removed]",
      "text/plain": [
       "<Figure size 432x288 with 1 Axes>"
      ]
     },
     "metadata": {
      "needs_background": "light"
     },
     "output_type": "display_data"
    },
    {
     "name": "stdout",
     "output_type": "stream",
     "text": [
      "RMSE:  7.210267454057773 \n",
      "\n",
      "k1:  [0.57348245] \n",
      "k2:  [0.96116941] \n",
      "k3:  [-0.53122817]\n"
     ]
    }
   ],
   "source": [
    "import numpy as np\n",
    "import matplotlib.pyplot as plt\n",
    "import random as rnd\n",
    "\n",
    "# ---- Essentials ----\n",
    "\n",
    "plt.title(\"GDP x Lifespan correlation\")\n",
    "plt.ylabel(\"average lifespan (years)\") \n",
    "plt.xlabel(\"GDP per capita in $\")\n",
    "\n",
    "nations = np.genfromtxt(\"nations.csv\", delimiter=\",\", skip_header=True)\n",
    "\n",
    "perCapita = nations[:,3]/nations[:,6]*1000000\n",
    "age = nations[:,4]\n",
    "\n",
    "\n",
    "# ---- Normalizing ----\n",
    "\n",
    "def normalizeMinMax(values):\n",
    "    min = np.amin(values)\n",
    "    max = np.amax(values)\n",
    "    \n",
    "    norm = (values-min)/(max-min)\n",
    "    return norm\n",
    "\n",
    "def deNormalize(values, origin):\n",
    "    min = np.amin(origin)\n",
    "    max = np.amax(origin)\n",
    "    \n",
    "    deNorm = values * (max - min) + min\n",
    "    return deNorm\n",
    "\n",
    "\n",
    "\n",
    "# ---- Approximation function ----\n",
    "\n",
    "def rndApprox(xValues):\n",
    "\n",
    "    np.sort(xValues)\n",
    "\n",
    "    x = np.expand_dims(xValues, axis = 0)\n",
    "    p = np.expand_dims(np.arange(0,3), axis = 1)\n",
    "    x2 = np.power(x, p)\n",
    "\n",
    "    coeffs = np.array([rnd.uniform(-1,1),rnd.uniform(-1,1),rnd.uniform(-1,1)])\n",
    "    coeffs = np.expand_dims(coeffs, axis = 1)\n",
    "    \n",
    "    \n",
    "\n",
    "    y = np.matmul(x2.transpose(), coeffs) \n",
    "    \n",
    "    return coeffs, y\n",
    "\n",
    "\n",
    "# ---- RMSE calculation function ----\n",
    "\n",
    "def getRMSE(y, y1):\n",
    "    y1 = y1.transpose() # <-- somehow this seems to be nessecary... :/\n",
    "   \n",
    "    rmse = np.sqrt(np.mean((y1-y)**2))\n",
    "    \n",
    "    return rmse\n",
    "\n",
    "\n",
    "\n",
    "\n",
    "# ---- MAIN ----\n",
    "\n",
    "\n",
    "perCapitaNorm = normalizeMinMax(perCapita) # normalize\n",
    "ageNorm = normalizeMinMax(age) # normalize\n",
    "\n",
    "bestResult = rndApprox(perCapitaNorm) # first step\n",
    "\n",
    "for i in range(10000):\n",
    "    result = rndApprox(perCapitaNorm) # repeat\n",
    "    if getRMSE(ageNorm, result[1]) <  getRMSE(ageNorm, bestResult[1]): # compare\n",
    "        bestResult = result\n",
    "\n",
    "\n",
    "bestResult = [bestResult[0], deNormalize(bestResult[1], age)] # denormalize\n",
    "\n",
    "\n",
    "x, y = zip(*sorted(zip(perCapita, bestResult[1]))) # <-- little trick to sort x-values \n",
    "                         # Source: https://stackoverflow.com/questions/37414916/pythons-matplotlib-plotting-in-wrong-order\n",
    "\n",
    "# plot\n",
    "plt.plot(perCapita, age, \"og\")        \n",
    "plt.plot(x, y, \"r\")\n",
    "plt.show()\n",
    "\n",
    "print(\"RMSE: \" , getRMSE(age, bestResult[1]), \"\\n\\nk1: \", bestResult[0][0], \"\\nk2: \", bestResult[0][1], \"\\nk3: \", bestResult[0][2])"
   ]
  },
  {
   "cell_type": "code",
   "execution_count": null,
   "id": "f7d51053",
   "metadata": {},
   "outputs": [],
   "source": []
  }
 ],
 "metadata": {
  "kernelspec": {
   "display_name": "Python 3 (ipykernel)",
   "language": "python",
   "name": "python3"
  },
  "language_info": {
   "codemirror_mode": {
    "name": "ipython",
    "version": 3
   },
   "file_extension": ".py",
   "mimetype": "text/x-python",
   "name": "python",
   "nbconvert_exporter": "python",
   "pygments_lexer": "ipython3",
   "version": "3.9.12"
  }
 },
 "nbformat": 4,
 "nbformat_minor": 5
}
