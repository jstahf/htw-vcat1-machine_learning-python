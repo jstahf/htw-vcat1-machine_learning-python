{
 "cells": [
  {
   "cell_type": "code",
   "execution_count": 3,
   "id": "6ed2eb11",
   "metadata": {},
   "outputs": [
    {
     "ename": "NameError",
     "evalue": "name 'values' is not defined",
     "output_type": "error",
     "traceback": [
      "\u001b[1;31m---------------------------------------------------------------------------\u001b[0m",
      "\u001b[1;31mNameError\u001b[0m                                 Traceback (most recent call last)",
      "Input \u001b[1;32mIn [3]\u001b[0m, in \u001b[0;36m<cell line: 28>\u001b[1;34m()\u001b[0m\n\u001b[0;32m     25\u001b[0m     norm \u001b[38;5;241m=\u001b[39m (norm\u001b[38;5;241m-\u001b[39m\u001b[38;5;28mmin\u001b[39m)\u001b[38;5;241m/\u001b[39m(\u001b[38;5;28mmax\u001b[39m\u001b[38;5;241m-\u001b[39m\u001b[38;5;28mmin\u001b[39m)\n\u001b[0;32m     26\u001b[0m     \u001b[38;5;28;01mreturn\u001b[39;00m norm\n\u001b[1;32m---> 28\u001b[0m perCapitaNorm \u001b[38;5;241m=\u001b[39m \u001b[43mnormalizeMinMax\u001b[49m\u001b[43m(\u001b[49m\u001b[43mperCapita\u001b[49m\u001b[43m)\u001b[49m\n\u001b[0;32m     29\u001b[0m ageNorm \u001b[38;5;241m=\u001b[39m normalizeMinMax(age)\n\u001b[0;32m     32\u001b[0m \u001b[38;5;66;03m# ---- Approximation function ----\u001b[39;00m\n",
      "Input \u001b[1;32mIn [3]\u001b[0m, in \u001b[0;36mnormalizeMinMax\u001b[1;34m(array)\u001b[0m\n\u001b[0;32m     21\u001b[0m \u001b[38;5;28;01mdef\u001b[39;00m \u001b[38;5;21mnormalizeMinMax\u001b[39m(array):\n\u001b[1;32m---> 22\u001b[0m     \u001b[38;5;28mmin\u001b[39m \u001b[38;5;241m=\u001b[39m np\u001b[38;5;241m.\u001b[39mamin(\u001b[43mvalues\u001b[49m)\n\u001b[0;32m     23\u001b[0m     \u001b[38;5;28mmax\u001b[39m \u001b[38;5;241m=\u001b[39m np\u001b[38;5;241m.\u001b[39mamax(values)\n\u001b[0;32m     25\u001b[0m     norm \u001b[38;5;241m=\u001b[39m (norm\u001b[38;5;241m-\u001b[39m\u001b[38;5;28mmin\u001b[39m)\u001b[38;5;241m/\u001b[39m(\u001b[38;5;28mmax\u001b[39m\u001b[38;5;241m-\u001b[39m\u001b[38;5;28mmin\u001b[39m)\n",
      "\u001b[1;31mNameError\u001b[0m: name 'values' is not defined"
     ]
    },
    {
     "data": {
      "image/png": "[encoded data removed]",
      "text/plain": [
       "<Figure size 432x288 with 1 Axes>"
      ]
     },
     "metadata": {
      "needs_background": "light"
     },
     "output_type": "display_data"
    }
   ],
   "source": [
    "import numpy as np\n",
    "import matplotlib.pyplot as plt\n",
    "import random as rnd\n",
    "\n",
    "# ---- Essentials ----\n",
    "\n",
    "plt.title(\"GDP x Lifespan correlation\")\n",
    "plt.ylabel(\"average lifespan (years)\") \n",
    "plt.xlabel(\"GDP per capita in $\")\n",
    "\n",
    "nations = np.genfromtxt(\"nations.csv\", delimiter=\",\", skip_header=True)\n",
    "\n",
    "perCapita = nations[:,3]/nations[:,6]*1000000\n",
    "age = nations[:,4]\n",
    "\n",
    "plt.plot(perCapita, nations[:,4], \"og\")\n",
    "\n",
    "\n",
    "# ---- Normalizing ----\n",
    "\n",
    "def normalizeMinMax(array):\n",
    "    min = np.amin(values)\n",
    "    max = np.amax(values)\n",
    "    \n",
    "    norm = (norm-min)/(max-min)\n",
    "    return norm\n",
    "\n",
    "perCapitaNorm = normalizeMinMax(perCapita)\n",
    "ageNorm = normalizeMinMax(age)\n",
    "\n",
    "\n",
    "# ---- Approximation function ----\n",
    "\n",
    "def rndApprox(xValues):\n",
    "\n",
    "    x = np.sort(xValues)\n",
    "\n",
    "    x = np.expand_dims(xValues, axis = 0)\n",
    "    p = np.expand_dims(np.arange(0,3), axis = 1)\n",
    "    x2 = np.power(x, p)\n",
    "\n",
    "    coeffs = np.array([rnd.uniform(0,100),rnd.uniform(-0.00001,0.00001),rnd.uniform(-0.00000001,0.00000001)])\n",
    "    coeffs = np.expand_dims(coeffs, axis = 1)\n",
    "\n",
    "    y = np.matmul(x2.transpose(), coeffs) \n",
    "    \n",
    "    return coeffs, y\n",
    "\n",
    "\n",
    "# ---- RMSE calculation function ----\n",
    "\n",
    "def getRMSE(y, y1):\n",
    "    y1 = y1.transpose() # <-- somehow this seems to be nessecary... :/\n",
    "   \n",
    "    rmse = np.sqrt(np.mean((y1-y)**2))\n",
    "    \n",
    "    return rmse\n",
    "\n",
    "\n",
    "\n",
    "\n",
    "# ---- MAIN ----\n",
    "\n",
    "bestResult = rndApprox(perCapitaNorm)\n",
    "\n",
    "#print(bestResult[1].shape) <-- (163, 1) \n",
    "#print(nations[:,4].shape) <-- (163,) vector vs 2D array, but seems to be fine \n",
    "\n",
    "for i in range(10000):\n",
    "    result = rndApprox(perCapitaNorm)\n",
    "    if getRMSE(ageNorm, result[1]) <  getRMSE(ageNorm, bestResult[1]):\n",
    "        bestResult = result\n",
    "     \n",
    "    \n",
    "x, y = zip(*sorted(zip(perCapitaNorm, bestResult[1]))) # <-- little trick to sort x-values \n",
    "                         # Source: https://stackoverflow.com/questions/37414916/pythons-matplotlib-plotting-in-wrong-order\n",
    "        \n",
    "plt.plot(x, y, \"r\")\n",
    "plt.show()\n",
    "\n",
    "print(\"RMSE: \" , getRMSE(ageNorm, bestResult[1]), \"\\n\\nk1: \", bestResult[0][0], \"\\nk2: \", bestResult[0][1], \"\\nk3: \", bestResult[0][2])"
   ]
  },
  {
   "cell_type": "code",
   "execution_count": null,
   "id": "f7d51053",
   "metadata": {},
   "outputs": [],
   "source": []
  },
  {
   "cell_type": "code",
   "execution_count": null,
   "id": "bb6298ea",
   "metadata": {},
   "outputs": [],
   "source": []
  }
 ],
 "metadata": {
  "kernelspec": {
   "display_name": "Python 3 (ipykernel)",
   "language": "python",
   "name": "python3"
  },
  "language_info": {
   "codemirror_mode": {
    "name": "ipython",
    "version": 3
   },
   "file_extension": ".py",
   "mimetype": "text/x-python",
   "name": "python",
   "nbconvert_exporter": "python",
   "pygments_lexer": "ipython3",
   "version": "3.9.12"
  }
 },
 "nbformat": 4,
 "nbformat_minor": 5
}
